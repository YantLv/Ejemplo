{
 "cells": [
  {
   "cell_type": "markdown",
   "id": "19cf9796",
   "metadata": {},
   "source": [
    "# Data Science Tools and Ecosystem"
   ]
  },
  {
   "cell_type": "markdown",
   "id": "28c004f4",
   "metadata": {},
   "source": [
    "In this notebook, Data Science Tools and Ecosystem are summarized."
   ]
  },
  {
   "cell_type": "markdown",
   "id": "e14fd6bc",
   "metadata": {},
   "source": [
    "**Objectives:**\n",
    "* List popular languages used for Data Science\n",
    "* List some popular libraries used by Data Scientists\n",
    "* Table of development environment open source tools used in data science\n",
    "* Simple arithmetic expressions\n"
   ]
  },
  {
   "cell_type": "markdown",
   "id": "5c3f4f7c",
   "metadata": {},
   "source": [
    "Some of the most popular languages used by Data Scientists are:\n",
    "1. Python \n",
    "2. R \n",
    "3. SQL \n",
    "4. Scala \n",
    "5. Java \n",
    "6. Julia \n",
    "7. C++"
   ]
  },
  {
   "cell_type": "markdown",
   "id": "cebbd98b",
   "metadata": {},
   "source": [
    "Some of the commonly used libraries used by Data Scientists include:\n",
    "1. Pandas\n",
    "2. Numpy \n",
    "3. Matplotlib\n",
    "4. Seaborn\n",
    "5. Scikit-learn\n",
    "6. Keras\n",
    "7. Vegas\n",
    "8. Big DL\n",
    "9. TensorFlow\n",
    "10. ggplot2"
   ]
  },
  {
   "cell_type": "markdown",
   "id": "36de15ea",
   "metadata": {},
   "source": [
    "| Data Science Tools |\n",
    "|--------------| \n",
    "| RStudio |\n",
    "| Apache Spark |\n",
    "| TensorFlow |\n",
    "\n",
    "\n",
    "\n",
    "    "
   ]
  },
  {
   "cell_type": "markdown",
   "id": "768fa876",
   "metadata": {},
   "source": [
    "### Below are a few examples of evaluating arithmetic expressions in Python"
   ]
  },
  {
   "cell_type": "code",
   "execution_count": 2,
   "id": "5266446f",
   "metadata": {},
   "outputs": [
    {
     "data": {
      "text/plain": [
       "17"
      ]
     },
     "execution_count": 2,
     "metadata": {},
     "output_type": "execute_result"
    }
   ],
   "source": [
    "(3 * 4) + 5\n",
    "#This a simple arithmetic expression to mutiply then add integers"
   ]
  },
  {
   "cell_type": "code",
   "execution_count": 6,
   "id": "8226b59e",
   "metadata": {},
   "outputs": [
    {
     "name": "stdout",
     "output_type": "stream",
     "text": [
      "3.3333333333333335\n"
     ]
    }
   ],
   "source": [
    "minutes = 200\n",
    "hours = minutes / 60\n",
    "#This will convert 200 minutes to hours by diving by 60\n",
    "print(hours)"
   ]
  },
  {
   "cell_type": "markdown",
   "id": "4d0b725f",
   "metadata": {},
   "source": [
    "## Author\n",
    "Yant-tzeen Lay Victorio"
   ]
  }
 ],
 "metadata": {
  "kernelspec": {
   "display_name": "Python 3 (ipykernel)",
   "language": "python",
   "name": "python3"
  },
  "language_info": {
   "codemirror_mode": {
    "name": "ipython",
    "version": 3
   },
   "file_extension": ".py",
   "mimetype": "text/x-python",
   "name": "python",
   "nbconvert_exporter": "python",
   "pygments_lexer": "ipython3",
   "version": "3.9.12"
  }
 },
 "nbformat": 4,
 "nbformat_minor": 5
}
